{
  "nbformat": 4,
  "nbformat_minor": 0,
  "metadata": {
    "colab": {
      "provenance": []
    },
    "kernelspec": {
      "name": "python3",
      "display_name": "Python 3"
    },
    "language_info": {
      "name": "python"
    }
  },
  "cells": [
    {
      "cell_type": "markdown",
      "source": [
        "# Reduction de la dimension d'un ensembre de données par l'Analyse en Composante Principales\n",
        "\n",
        "\n",
        "“L'idée générale derrière l'ACP est la décorrélation des variables. En effet l'ACP transforme les variables d'un jeu de données en un nouvel ensemble de variables appelées composantes principales. Chacune de ces composants représente (explique) un certain pourcentage de la variabilité totale des données le long d'un axe orthogonal les uns aux autres. Le premier axe (donc la première composante principale) est la direction dans laquelle les données varient le plus.”\n"
      ],
      "metadata": {
        "id": "UXoQT9GVqQKT"
      }
    },
    {
      "cell_type": "markdown",
      "source": [
        "## Iniiation à l'Analyse en Composante Principale"
      ],
      "metadata": {
        "id": "et-1tQ7zLm1F"
      }
    },
    {
      "cell_type": "markdown",
      "source": [
        "### Introduction\n",
        "\n",
        "Les ensembles de données à grande dimension posent de nombre défis dont :\n",
        "- Le problèmen de stockage et des ressources de calcul très coûteux en terme d'analyse\n",
        "- Le problème de surapprentissage(overfitting) dans des tâches de modélisation\n",
        "- Le fait que certains algorithmes, très utilisés en ML ne peuvent pas traiter ce genre de données \n",
        "- Correlation entre différentes variables : problème de multi-colinéarité\n",
        "- Etc\n",
        "\n",
        "Pour résoudre ce problème de grande dimention, on fait appelle aux **Techniques de réduction de dimensionnalité** dont l'ACP est la plus polulaire."
      ],
      "metadata": {
        "id": "qTMFXAxpLzE6"
      }
    },
    {
      "cell_type": "markdown",
      "source": [
        "### Mise en Place de l'Enviroment de Travail"
      ],
      "metadata": {
        "id": "tiuzgI2yOqa5"
      }
    },
    {
      "cell_type": "code",
      "source": [
        "from google.colab import drive\n",
        "drive.mount('/content/drive')"
      ],
      "metadata": {
        "colab": {
          "base_uri": "https://localhost:8080/"
        },
        "id": "VErPnExbOn5A",
        "outputId": "1e9e33d7-da7b-41ee-b6b4-43fab6d6a9a6"
      },
      "execution_count": null,
      "outputs": [
        {
          "output_type": "stream",
          "name": "stdout",
          "text": [
            "Mounted at /content/drive\n"
          ]
        }
      ]
    },
    {
      "cell_type": "markdown",
      "source": [
        "### Librairies"
      ],
      "metadata": {
        "id": "IQDdntMSNdmD"
      }
    },
    {
      "cell_type": "code",
      "source": [
        "import pandas as pd \n",
        "import numpy as np\n",
        "from scipy.stats import pearsonr\n",
        "\n",
        "import matplotlib.pyplot as plt\n",
        "\n",
        "from sklearn.preprocessing import StandardScaler\n",
        "from sklearn.decomposition import PCA"
      ],
      "metadata": {
        "id": "JfGUOVsqNdJs"
      },
      "execution_count": null,
      "outputs": []
    },
    {
      "cell_type": "markdown",
      "source": [
        "### Excerice d'inition à l'ACP\n",
        "\n",
        "On dispose d'un jeu de données de mesures (largeur et longueur) sur les grains de mais."
      ],
      "metadata": {
        "id": "A7i3-hRgOJ8i"
      }
    },
    {
      "cell_type": "code",
      "source": [
        "# Importation des données\n",
        "\n",
        "grains_df = pd.read_csv(\"https://raw.githubusercontent.com/JosueAfouda/PCA-Lesson/master/seeds-width-vs-length.csv\", \n",
        "                          header=None, names=['largeur', 'longueur'])"
      ],
      "metadata": {
        "id": "i-u1PvdoLxEu"
      },
      "execution_count": null,
      "outputs": []
    },
    {
      "cell_type": "code",
      "source": [
        "grains_df.head()"
      ],
      "metadata": {
        "colab": {
          "base_uri": "https://localhost:8080/",
          "height": 206
        },
        "id": "IVKvHUHbOIoa",
        "outputId": "4bf2a79e-abb6-4c07-a529-dda2691e2a80"
      },
      "execution_count": null,
      "outputs": [
        {
          "output_type": "execute_result",
          "data": {
            "text/plain": [
              "   largeur  longueur\n",
              "0    3.312     5.763\n",
              "1    3.333     5.554\n",
              "2    3.337     5.291\n",
              "3    3.379     5.324\n",
              "4    3.562     5.658"
            ],
            "text/html": [
              "\n",
              "  <div id=\"df-f4bb9b81-aa1a-4225-b862-c7b77ec8e5be\">\n",
              "    <div class=\"colab-df-container\">\n",
              "      <div>\n",
              "<style scoped>\n",
              "    .dataframe tbody tr th:only-of-type {\n",
              "        vertical-align: middle;\n",
              "    }\n",
              "\n",
              "    .dataframe tbody tr th {\n",
              "        vertical-align: top;\n",
              "    }\n",
              "\n",
              "    .dataframe thead th {\n",
              "        text-align: right;\n",
              "    }\n",
              "</style>\n",
              "<table border=\"1\" class=\"dataframe\">\n",
              "  <thead>\n",
              "    <tr style=\"text-align: right;\">\n",
              "      <th></th>\n",
              "      <th>largeur</th>\n",
              "      <th>longueur</th>\n",
              "    </tr>\n",
              "  </thead>\n",
              "  <tbody>\n",
              "    <tr>\n",
              "      <th>0</th>\n",
              "      <td>3.312</td>\n",
              "      <td>5.763</td>\n",
              "    </tr>\n",
              "    <tr>\n",
              "      <th>1</th>\n",
              "      <td>3.333</td>\n",
              "      <td>5.554</td>\n",
              "    </tr>\n",
              "    <tr>\n",
              "      <th>2</th>\n",
              "      <td>3.337</td>\n",
              "      <td>5.291</td>\n",
              "    </tr>\n",
              "    <tr>\n",
              "      <th>3</th>\n",
              "      <td>3.379</td>\n",
              "      <td>5.324</td>\n",
              "    </tr>\n",
              "    <tr>\n",
              "      <th>4</th>\n",
              "      <td>3.562</td>\n",
              "      <td>5.658</td>\n",
              "    </tr>\n",
              "  </tbody>\n",
              "</table>\n",
              "</div>\n",
              "      <button class=\"colab-df-convert\" onclick=\"convertToInteractive('df-f4bb9b81-aa1a-4225-b862-c7b77ec8e5be')\"\n",
              "              title=\"Convert this dataframe to an interactive table.\"\n",
              "              style=\"display:none;\">\n",
              "        \n",
              "  <svg xmlns=\"http://www.w3.org/2000/svg\" height=\"24px\"viewBox=\"0 0 24 24\"\n",
              "       width=\"24px\">\n",
              "    <path d=\"M0 0h24v24H0V0z\" fill=\"none\"/>\n",
              "    <path d=\"M18.56 5.44l.94 2.06.94-2.06 2.06-.94-2.06-.94-.94-2.06-.94 2.06-2.06.94zm-11 1L8.5 8.5l.94-2.06 2.06-.94-2.06-.94L8.5 2.5l-.94 2.06-2.06.94zm10 10l.94 2.06.94-2.06 2.06-.94-2.06-.94-.94-2.06-.94 2.06-2.06.94z\"/><path d=\"M17.41 7.96l-1.37-1.37c-.4-.4-.92-.59-1.43-.59-.52 0-1.04.2-1.43.59L10.3 9.45l-7.72 7.72c-.78.78-.78 2.05 0 2.83L4 21.41c.39.39.9.59 1.41.59.51 0 1.02-.2 1.41-.59l7.78-7.78 2.81-2.81c.8-.78.8-2.07 0-2.86zM5.41 20L4 18.59l7.72-7.72 1.47 1.35L5.41 20z\"/>\n",
              "  </svg>\n",
              "      </button>\n",
              "      \n",
              "  <style>\n",
              "    .colab-df-container {\n",
              "      display:flex;\n",
              "      flex-wrap:wrap;\n",
              "      gap: 12px;\n",
              "    }\n",
              "\n",
              "    .colab-df-convert {\n",
              "      background-color: #E8F0FE;\n",
              "      border: none;\n",
              "      border-radius: 50%;\n",
              "      cursor: pointer;\n",
              "      display: none;\n",
              "      fill: #1967D2;\n",
              "      height: 32px;\n",
              "      padding: 0 0 0 0;\n",
              "      width: 32px;\n",
              "    }\n",
              "\n",
              "    .colab-df-convert:hover {\n",
              "      background-color: #E2EBFA;\n",
              "      box-shadow: 0px 1px 2px rgba(60, 64, 67, 0.3), 0px 1px 3px 1px rgba(60, 64, 67, 0.15);\n",
              "      fill: #174EA6;\n",
              "    }\n",
              "\n",
              "    [theme=dark] .colab-df-convert {\n",
              "      background-color: #3B4455;\n",
              "      fill: #D2E3FC;\n",
              "    }\n",
              "\n",
              "    [theme=dark] .colab-df-convert:hover {\n",
              "      background-color: #434B5C;\n",
              "      box-shadow: 0px 1px 3px 1px rgba(0, 0, 0, 0.15);\n",
              "      filter: drop-shadow(0px 1px 2px rgba(0, 0, 0, 0.3));\n",
              "      fill: #FFFFFF;\n",
              "    }\n",
              "  </style>\n",
              "\n",
              "      <script>\n",
              "        const buttonEl =\n",
              "          document.querySelector('#df-f4bb9b81-aa1a-4225-b862-c7b77ec8e5be button.colab-df-convert');\n",
              "        buttonEl.style.display =\n",
              "          google.colab.kernel.accessAllowed ? 'block' : 'none';\n",
              "\n",
              "        async function convertToInteractive(key) {\n",
              "          const element = document.querySelector('#df-f4bb9b81-aa1a-4225-b862-c7b77ec8e5be');\n",
              "          const dataTable =\n",
              "            await google.colab.kernel.invokeFunction('convertToInteractive',\n",
              "                                                     [key], {});\n",
              "          if (!dataTable) return;\n",
              "\n",
              "          const docLinkHtml = 'Like what you see? Visit the ' +\n",
              "            '<a target=\"_blank\" href=https://colab.research.google.com/notebooks/data_table.ipynb>data table notebook</a>'\n",
              "            + ' to learn more about interactive tables.';\n",
              "          element.innerHTML = '';\n",
              "          dataTable['output_type'] = 'display_data';\n",
              "          await google.colab.output.renderOutput(dataTable, element);\n",
              "          const docLink = document.createElement('div');\n",
              "          docLink.innerHTML = docLinkHtml;\n",
              "          element.appendChild(docLink);\n",
              "        }\n",
              "      </script>\n",
              "    </div>\n",
              "  </div>\n",
              "  "
            ]
          },
          "metadata": {},
          "execution_count": 20
        }
      ]
    },
    {
      "cell_type": "code",
      "source": [
        "grains_df.info()"
      ],
      "metadata": {
        "colab": {
          "base_uri": "https://localhost:8080/"
        },
        "id": "Y5LpPRpKPrdZ",
        "outputId": "95c5fb3a-a96d-443a-83f2-c2ffc622d506"
      },
      "execution_count": null,
      "outputs": [
        {
          "output_type": "stream",
          "name": "stdout",
          "text": [
            "<class 'pandas.core.frame.DataFrame'>\n",
            "RangeIndex: 210 entries, 0 to 209\n",
            "Data columns (total 2 columns):\n",
            " #   Column    Non-Null Count  Dtype  \n",
            "---  ------    --------------  -----  \n",
            " 0   largeur   210 non-null    float64\n",
            " 1   longueur  210 non-null    float64\n",
            "dtypes: float64(2)\n",
            "memory usage: 3.4 KB\n"
          ]
        }
      ]
    },
    {
      "cell_type": "markdown",
      "source": [
        "#### Calculer le coefficiant de correlation de pearson"
      ],
      "metadata": {
        "id": "GjTCsJLyPz8F"
      }
    },
    {
      "cell_type": "code",
      "source": [
        "# Création d'un tableau numpy 2D à partir de grains_df\n",
        "\n",
        "grains_array = grains_df.values\n",
        "l = grains_array[:, 0]\n",
        "L = grains_array[:, 1]\n",
        "\n",
        "# Coefficiant de corrélation entre la largeur et la Longueur des grains\n",
        "coef_cor, pvalue = pearsonr(l, L)\n",
        "print(coef_cor, pvalue)"
      ],
      "metadata": {
        "colab": {
          "base_uri": "https://localhost:8080/"
        },
        "id": "X-Lg0V3nOlYr",
        "outputId": "82fa2686-6035-4999-f469-4bd59d9629f3"
      },
      "execution_count": null,
      "outputs": [
        {
          "output_type": "stream",
          "name": "stdout",
          "text": [
            "0.8604149377143469 8.121332906192771e-63\n"
          ]
        }
      ]
    },
    {
      "cell_type": "markdown",
      "source": [
        "On observe qu'il existe une forte correlation positive (coef_cor = 0.86) et statistiquement significative (p < 0.05) entre la largeur er la longueur des grains.\n",
        "\n",
        "Il faut donc que nous arrivions à décoreller ses variables. Et pour cela nous allons appliqeuer la technique de l'ACP qui a un double avantage dans ce cas, d'abord elle pas nous permettre de  décorreler nos variables (donc on aura plus de probème de multicolinéarité) et elle va nous nous permettre de réduire la dimension de notre jeu de données).  Pour ce faire, nous allons d'abord visualiser nos variables sur un nuage de points pour confimer leur correlation."
      ],
      "metadata": {
        "id": "P87IHxifQ0Qg"
      }
    },
    {
      "cell_type": "code",
      "source": [
        "# Visualisation du nuage de points\n",
        "plt.figure(figsize=(12, 6))\n",
        "\n",
        "plt.scatter(l, L)\n",
        "plt.xlabel('Largeur des grains')\n",
        "plt.ylabel('Longueur des grains');"
      ],
      "metadata": {
        "colab": {
          "base_uri": "https://localhost:8080/",
          "height": 390
        },
        "id": "RrUUZxdKRn88",
        "outputId": "87f9dd8d-fede-4b33-803e-e6cd2dc44a5b"
      },
      "execution_count": null,
      "outputs": [
        {
          "output_type": "display_data",
          "data": {
            "text/plain": [
              "<Figure size 864x432 with 1 Axes>"
            ],
            "image/png": "[encoded data removed]"
          },
          "metadata": {
            "needs_background": "light"
          }
        }
      ]
    },
    {
      "cell_type": "markdown",
      "source": [
        "#### Appliquons l'ACP à nos variables\n",
        "- Par défaut, le nombre de composants **`n_components`** que prend la fonction PCA c'est le nombre de variables originelles de jeu de données\n",
        "- La méthode **`fit_transformer`** nous permet d'entrainer le modèle via l'objet PCA avec les données instancier puis nous transformons en meme tant ces données entrainer"
      ],
      "metadata": {
        "id": "obJ5kSt_THNr"
      }
    },
    {
      "cell_type": "code",
      "source": [
        "# Création d'une instance de la classe PCA\n",
        "model_pca = PCA()\n",
        "\n",
        "# Application du modèle aux données (Entraînement du modèle par les données et transformation des données)\n",
        "grains_pca =  model_pca.fit_transform(grains_array)\n",
        "grains_pca[:10]"
      ],
      "metadata": {
        "colab": {
          "base_uri": "https://localhost:8080/"
        },
        "id": "WvnxsAfGTG0Q",
        "outputId": "53f9fa89-d423-472b-d80f-c2d0657c20e9"
      },
      "execution_count": null,
      "outputs": [
        {
          "output_type": "execute_result",
          "data": {
            "text/plain": [
              "array([[ 0.13754637,  0.04487015],\n",
              "       [-0.00977932, -0.10485339],\n",
              "       [-0.20950238, -0.27601326],\n",
              "       [-0.15727909, -0.28722613],\n",
              "       [ 0.21656348, -0.21451623],\n",
              "       [-0.15241316, -0.19607065],\n",
              "       [-0.05015063, -0.04218636],\n",
              "       [-0.13265396, -0.16665   ],\n",
              "       [ 0.45837451,  0.11253335],\n",
              "       [ 0.35395666, -0.02623954]])"
            ]
          },
          "metadata": {},
          "execution_count": 26
        }
      ]
    },
    {
      "cell_type": "markdown",
      "source": [
        "L'arguement n_componenrs de la fonction PCA() est par défaut égal qu nombre de variables de l'ensemble des donnée. le résulat de l'application de l'ACP sur les données est tableau numpy 2D composée de 02 composantes principales. Visualisons ce résultat."
      ],
      "metadata": {
        "id": "dQf5bibjVBS4"
      }
    },
    {
      "cell_type": "code",
      "source": [
        "# Première composante principale\n",
        "comp1 = grains_pca[:, 0]\n",
        "\n",
        "# Deuxième composante principale\n",
        "comp2 = grains_pca[:, 1]\n",
        "\n",
        "# Calcul du coefficient de correlation entre comp1 et comp2\n",
        "coef_cor_comp, pvalue_comp = pearsonr(comp1, comp2)\n",
        "print(coef_cor_comp, pvalue_comp)"
      ],
      "metadata": {
        "colab": {
          "base_uri": "https://localhost:8080/"
        },
        "id": "P-gRWQ85QDOL",
        "outputId": "b61c682b-00b2-44b4-f18d-915756239e8a"
      },
      "execution_count": null,
      "outputs": [
        {
          "output_type": "stream",
          "name": "stdout",
          "text": [
            "8.933825901280557e-17 0.9999999999999515\n"
          ]
        }
      ]
    },
    {
      "cell_type": "markdown",
      "source": [
        "Ce résulat nous permet de conclure qu'il y'a pas de correlation linéaire entre les deux composantes principales. L'ACP a transformé les variables correlées de notre jeu de données en un nouvel ensemble de variables non correlées. \n",
        "\n",
        "Visualisons nos composantes sur un nuage de points pour confimer leur non-correlation."
      ],
      "metadata": {
        "id": "zOpIiABHWR7N"
      }
    },
    {
      "cell_type": "code",
      "source": [
        "# Nuage de points entre comp1 et comp2\n",
        "plt.figure(figsize=(12, 6))\n",
        "plt.scatter(comp1, comp2)\n",
        "plt.xlabel('Composante 1')\n",
        "plt.ylabel('Composante 2');"
      ],
      "metadata": {
        "colab": {
          "base_uri": "https://localhost:8080/",
          "height": 388
        },
        "id": "sRfk7JHYWCP0",
        "outputId": "cd796e59-bddd-461e-e7d1-d97aeaa71d1a"
      },
      "execution_count": null,
      "outputs": [
        {
          "output_type": "display_data",
          "data": {
            "text/plain": [
              "<Figure size 864x432 with 1 Axes>"
            ],
            "image/png": "[encoded data removed]"
          },
          "metadata": {
            "needs_background": "light"
          }
        }
      ]
    },
    {
      "cell_type": "markdown",
      "source": [
        "#### Quelle est la variance expliquée par chacune des 02 composantes principales ?\n",
        "\n",
        "Pour cela nous allons voir quelques atributs du résultat de notre modèle PCA pour analyser un peu ce résultat."
      ],
      "metadata": {
        "id": "P5Vf7Vcga8OF"
      }
    },
    {
      "cell_type": "code",
      "source": [
        "# Attricbut du modèle PCA pour retrouver la quantité de variance expliquée par chaque composante\n",
        "  ## Quel est la quantité de variance expliqué par chaque composante ?\n",
        "  ## Chaque composante explique quel information ? quel quantité d'information de notre jeu de données ?\n",
        "\n",
        "qte_varianceExplique_pca = model_pca.explained_variance_\n",
        "print(f\"La première composante explique : {qte_varianceExplique_pca[0].round(3)} \\\n",
        "     \\nLa deuxième composante expliqe : {qte_varianceExplique_pca[1].round(3)}\")"
      ],
      "metadata": {
        "colab": {
          "base_uri": "https://localhost:8080/"
        },
        "id": "Mzdh1sTBarbh",
        "outputId": "6a56fad2-87c9-4d6b-d7ea-a74cbe51f6d2"
      },
      "execution_count": null,
      "outputs": [
        {
          "output_type": "stream",
          "name": "stdout",
          "text": [
            "La première composante explique : 0.316      \n",
            "La deuxième composante expliqe : 0.023\n"
          ]
        }
      ]
    },
    {
      "cell_type": "code",
      "source": [
        "# Attribut du modèle PCA pour retrouver le pourcentage de variance expliquée par chaque composante\n",
        "  ## Quel est la variance expliqué en terme de pourcentage\n",
        "pct_varianceExplique_pca = model_pca.explained_variance_ratio_\n",
        "\n",
        "print(f\"La première composante explique : {pct_varianceExplique_pca[0].round(4)*100} % de la variance total \\\n",
        "     \\nLa deuxième composante expliqe : {pct_varianceExplique_pca[1].round(3)*100} % de la variance total\")"
      ],
      "metadata": {
        "colab": {
          "base_uri": "https://localhost:8080/"
        },
        "id": "RMk4iC5gcOpc",
        "outputId": "a22b09ce-ec9b-4d1d-bccc-66b6afba0455"
      },
      "execution_count": null,
      "outputs": [
        {
          "output_type": "stream",
          "name": "stdout",
          "text": [
            "La première composante explique : 93.21000000000001 % de la variance total      \n",
            "La deuxième composante expliqe : 6.800000000000001 % de la variance total\n"
          ]
        }
      ]
    },
    {
      "cell_type": "markdown",
      "source": [
        "On en conclut que la deuxième composante est plutôt annecdotique étant donnée quel n'explique pratiquement rien . Cela nous donne donc une idée de la dimension intrinsèque de notre jeu de donnée (c-a-d que nous pouvons réduire notre jeu de données en passant de 02 variables à une seule variable).\n",
        "\n",
        "Quel est la variance cumululés expliqué par un n_composantes ? Ici la **`variance cumulé`**  nous permet de de  voir le pourcentatge de variance qu'on peu expliquer en utilisant un certains nombre de composantes."
      ],
      "metadata": {
        "id": "m_wN8qeKgGzJ"
      }
    },
    {
      "cell_type": "code",
      "source": [
        "# Voir le pourcentatge de variance qu'on peu expliqyer en utilisant un certain nombre de composantes\n",
        "model_pca.explained_variance_ratio_.cumsum()"
      ],
      "metadata": {
        "colab": {
          "base_uri": "https://localhost:8080/"
        },
        "id": "KnSstN7KfDI0",
        "outputId": "c77c2ee5-4f2b-4be7-e722-84f7939723e4"
      },
      "execution_count": null,
      "outputs": [
        {
          "output_type": "execute_result",
          "data": {
            "text/plain": [
              "array([0.93209254, 1.        ])"
            ]
          },
          "metadata": {},
          "execution_count": 62
        }
      ]
    },
    {
      "cell_type": "code",
      "source": [
        "# Attribut du modèle PCA pour retrouver le nombre de composanres principales\n",
        "model_pca.n_components_"
      ],
      "metadata": {
        "colab": {
          "base_uri": "https://localhost:8080/"
        },
        "id": "xktj5guMhu6F",
        "outputId": "b457ce9f-3fb1-46fc-df30-7bf5a1182414"
      },
      "execution_count": null,
      "outputs": [
        {
          "output_type": "execute_result",
          "data": {
            "text/plain": [
              "2"
            ]
          },
          "metadata": {},
          "execution_count": 63
        }
      ]
    },
    {
      "cell_type": "markdown",
      "source": [
        "Visualisation des résultats (pourcentage de variance expliquée par chaque composante)"
      ],
      "metadata": {
        "id": "xV9iIWqQiY8u"
      }
    },
    {
      "cell_type": "code",
      "source": [
        "# Visualisation du pourcentage de variance expliquée par chaque composante\n",
        "plt.figure(figsize=(12, 6))\n",
        "plt.bar(range(model_pca.n_components_), model_pca.explained_variance_ratio_)\n",
        "plt.title(\"Pourcentage de variance expliquée par chaque composante\\n\")\n",
        "plt.xlabel('Composantes principales')\n",
        "plt.ylabel('Pourcentage de variance expliqués')\n",
        "plt.xticks(range(model_pca.n_components_));"
      ],
      "metadata": {
        "colab": {
          "base_uri": "https://localhost:8080/",
          "height": 419
        },
        "id": "z9EpEtuBiSWU",
        "outputId": "613b93ba-3ff8-4f56-a94f-9295983de1f8"
      },
      "execution_count": null,
      "outputs": [
        {
          "output_type": "display_data",
          "data": {
            "text/plain": [
              "<Figure size 864x432 with 1 Axes>"
            ],
            "image/png": "[encoded data removed]"
          },
          "metadata": {
            "needs_background": "light"
          }
        }
      ]
    },
    {
      "cell_type": "markdown",
      "source": [
        "Nous pouvons obverver de ce diagrame en bar que la première composante principale explique la majorité de l'information contenu (qui se retrouve) dans nos données et la deuxième composante est carrément annecdotique (elle ne sert pas à grand chose)."
      ],
      "metadata": {
        "id": "YMuTxyqcj34u"
      }
    },
    {
      "cell_type": "code",
      "source": [
        "# Attribut pour retrouver les composantes principaux au niveau de chaque axe\n",
        "pca_components = model_pca.components_\n",
        "pca_components"
      ],
      "metadata": {
        "colab": {
          "base_uri": "https://localhost:8080/"
        },
        "id": "GiJtqncNj3pP",
        "outputId": "0356ebba-f1b9-4d65-b004-b4acd64b1f52"
      },
      "execution_count": null,
      "outputs": [
        {
          "output_type": "execute_result",
          "data": {
            "text/plain": [
              "array([[ 0.63910027,  0.76912343],\n",
              "       [-0.76912343,  0.63910027]])"
            ]
          },
          "metadata": {},
          "execution_count": 74
        }
      ]
    },
    {
      "cell_type": "markdown",
      "source": [
        "Le tableau numpy 2D résultat de l'attribut **`components_`** du moèle PCA nous indique dans quelle mesure le vecteur de chaque composante principale est affecté par chaque variable originelle."
      ],
      "metadata": {
        "id": "k22hmiw3mSsj"
      }
    },
    {
      "cell_type": "code",
      "source": [
        "component1 = pca_components[0].round(4)\n",
        "component2 = pca_components[1].round(4)\n",
        "\n",
        "component1, component2"
      ],
      "metadata": {
        "colab": {
          "base_uri": "https://localhost:8080/"
        },
        "id": "eOHqEm-UjPsE",
        "outputId": "1eb9264c-7c8e-49f2-eded-396ef0c0022d"
      },
      "execution_count": null,
      "outputs": [
        {
          "output_type": "execute_result",
          "data": {
            "text/plain": [
              "(array([0.6391, 0.7691]), array([-0.7691,  0.6391]))"
            ]
          },
          "metadata": {},
          "execution_count": 84
        }
      ]
    },
    {
      "cell_type": "markdown",
      "source": [
        "On peut donc écrire chaque composante comme une combinaison linéaire de nos variables originelles, ce qui peut aider à l'interpretation des composantes principale.\n",
        "\n",
        "Il faut noter que ce qui est difficile dans la technique d'ACP c'est l'interpretation après des composantes principales.\n",
        "\n",
        "Mais si l'objectif de l'analyse c'est juste réduire la dimension de notre jeu de données, parfois l'interpretation importe peu."
      ],
      "metadata": {
        "id": "L7ErJIh0nhkF"
      }
    },
    {
      "cell_type": "code",
      "source": [
        "print(f\"Composante principale 1 = {component1[0]}*largeur + {component1[1]}*longueur\")\n",
        "print(f\"Composante principale 2 = {component2[0]}*largeur + {component2[1]}*longueur\")"
      ],
      "metadata": {
        "colab": {
          "base_uri": "https://localhost:8080/"
        },
        "id": "eQ35LALFlOyq",
        "outputId": "c668cf40-87b3-492b-8f9d-51408038b97a"
      },
      "execution_count": null,
      "outputs": [
        {
          "output_type": "stream",
          "name": "stdout",
          "text": [
            "Composante principale 1 = 0.6391*largeur + 0.7691*longueur\n",
            "Composante principale 2 = -0.7691*largeur + 0.6391*longueur\n"
          ]
        }
      ]
    },
    {
      "cell_type": "markdown",
      "source": [
        "source : https://www.youtube.com/watch?v=s6J1LjpzGWk&list=PLmJWMf9F8euSqYZRPZDQXuYluBpIehqE7&index=2 "
      ],
      "metadata": {
        "id": "0PnhhL8dpuaX"
      }
    },
    {
      "cell_type": "markdown",
      "source": [
        "# ACP dans un Pipeline\n",
        "Un pipeline est un objet python qui regroupe plusieurs étatpes.\n",
        "\n",
        "Ici nous allons mettre toutes les étapes qui vont nous permettre d'implémenter la technique ACP dans une fonction pipeline. Nous n'aurons plus besoin de faire des calculs très longs ou étapes intermediaire."
      ],
      "metadata": {
        "id": "aV6ex__lowDE"
      }
    },
    {
      "cell_type": "code",
      "source": [
        "from sklearn.pipeline import Pipeline"
      ],
      "metadata": {
        "id": "vw9jfxeBo2ws"
      },
      "execution_count": null,
      "outputs": []
    },
    {
      "cell_type": "markdown",
      "source": [
        "### Dataset\n",
        "\n",
        "L'ensemble des données de cette partie est un tableau. d'échantillons donnant des mesures (le poids en grammes, la longueur en centimètres, le rapport en pourcentage de la hauteur à la longueur, etc) de 7 espèces de poissons codées de 1 à 7. Chaque ligne représente un poisson individuel. Ces données proviennent de [Journal of Statistics Education](http://jse.amstat.org/datasets/). \n"
      ],
      "metadata": {
        "id": "e14JuIrJqjaj"
      }
    },
    {
      "cell_type": "code",
      "source": [
        "def dataset_description():\n",
        "  url = \"http://jse.amstat.org/datasets/fishcatch.txt\"\n",
        "  des = \"\"\"\n",
        "NAME:  fishcatch\n",
        "TYPE:  Sample \n",
        "SIZE:  159 observations, 8 variables\n",
        "\n",
        "DESCRIPTIVE ABSTRACT:\n",
        "\n",
        "159 fishes of 7 species are caught and measured. Altogether there are\n",
        "8 variables.  All the fishes are caught from the same lake\n",
        "(Laengelmavesi) near Tampere in Finland.\n",
        "\n",
        "SOURCES:\n",
        "Brofeldt, Pekka: Bidrag till kaennedom on fiskbestondet i vaera\n",
        "        sjoear. Laengelmaevesi. T.H.Jaervi: Finlands Fiskeriet  Band 4,\n",
        "        Meddelanden utgivna av fiskerifoereningen i Finland.\n",
        "        Helsingfors 1917\n",
        "\n",
        "VARIABLE DESCRIPTIONS:\n",
        "\n",
        "1  Obs       Observation number ranges from 1 to 159\n",
        "2  Species   (Numeric)\n",
        "        Code Finnish  Swedish    English        Latin      \n",
        "         1   Lahna    Braxen     Bream          Abramis brama\n",
        "         2   Siika    Iiden      Whitewish      Leusiscus idus\n",
        "         3   Saerki   Moerten    Roach          Leuciscus rutilus\n",
        "         4   Parkki   Bjoerknan  ?              Abramis bjrkna\n",
        "         5   Norssi   Norssen    Smelt          Osmerus eperlanus\n",
        "         6   Hauki    Jaedda     Pike           Esox lucius\n",
        "         7   Ahven    Abborre    Perch          Perca fluviatilis\n",
        "\n",
        "3  Weight      Weight of the fish (in grams)\n",
        "4  Length1     Length from the nose to the beginning of the tail (in cm)\n",
        "5  Length2     Length from the nose to the notch of the tail (in cm)\n",
        "6  Length3     Length from the nose to the end of the tail (in cm)\n",
        "7  Height%     Maximal height as % of Length3\n",
        "8  Width%      Maximal width as % of Length3\n",
        "9  Sex         1 = male 0 = female\n",
        "\"\"\"\n",
        "\n",
        "  return print(des)"
      ],
      "metadata": {
        "id": "m7eBW8setJm3"
      },
      "execution_count": null,
      "outputs": []
    },
    {
      "cell_type": "code",
      "source": [
        "dataset_description()"
      ],
      "metadata": {
        "colab": {
          "base_uri": "https://localhost:8080/"
        },
        "id": "z2l7rpqUtTKc",
        "outputId": "c17a9ba5-0f75-453b-aade-ef657e59b4c7"
      },
      "execution_count": null,
      "outputs": [
        {
          "output_type": "stream",
          "name": "stdout",
          "text": [
            "\n",
            "NAME:  fishcatch\n",
            "TYPE:  Sample \n",
            "SIZE:  159 observations, 8 variables\n",
            "\n",
            "DESCRIPTIVE ABSTRACT:\n",
            "\n",
            "159 fishes of 7 species are caught and measured. Altogether there are\n",
            "8 variables.  All the fishes are caught from the same lake\n",
            "(Laengelmavesi) near Tampere in Finland.\n",
            "\n",
            "SOURCES:\n",
            "Brofeldt, Pekka: Bidrag till kaennedom on fiskbestondet i vaera\n",
            "        sjoear. Laengelmaevesi. T.H.Jaervi: Finlands Fiskeriet  Band 4,\n",
            "        Meddelanden utgivna av fiskerifoereningen i Finland.\n",
            "        Helsingfors 1917\n",
            "\n",
            "VARIABLE DESCRIPTIONS:\n",
            "\n",
            "1  Obs       Observation number ranges from 1 to 159\n",
            "2  Species   (Numeric)\n",
            "        Code Finnish  Swedish    English        Latin      \n",
            "         1   Lahna    Braxen     Bream          Abramis brama\n",
            "         2   Siika    Iiden      Whitewish      Leusiscus idus\n",
            "         3   Saerki   Moerten    Roach          Leuciscus rutilus\n",
            "         4   Parkki   Bjoerknan  ?              Abramis bjrkna\n",
            "         5   Norssi   Norssen    Smelt          Osmerus eperlanus\n",
            "         6   Hauki    Jaedda     Pike           Esox lucius\n",
            "         7   Ahven    Abborre    Perch          Perca fluviatilis\n",
            "\n",
            "3  Weight      Weight of the fish (in grams)\n",
            "4  Length1     Length from the nose to the beginning of the tail (in cm)\n",
            "5  Length2     Length from the nose to the notch of the tail (in cm)\n",
            "6  Length3     Length from the nose to the end of the tail (in cm)\n",
            "7  Height%     Maximal height as % of Length3\n",
            "8  Width%      Maximal width as % of Length3\n",
            "9  Sex         1 = male 0 = female\n",
            "\n"
          ]
        }
      ]
    },
    {
      "cell_type": "code",
      "source": [
        "# Importation du jeu de données\n",
        "fishes_data_file = \"http://jse.amstat.org/datasets/fishcatch.dat.txt\"\n",
        "\n",
        "columns = [\"Species\", \"Weight\", \"Length1\", \"Length2\", \"Length3\", \"Height%\", \"Width%\", \"Sex\"]\n",
        "\n",
        "fishes = pd.read_csv(filepath_or_buffer=fishes_data_file, delimiter='\\s+', header=None, names=columns)\n",
        "\n",
        "fishes_df = fishes.copy()"
      ],
      "metadata": {
        "id": "BB7i_M_lqbvU"
      },
      "execution_count": null,
      "outputs": []
    },
    {
      "cell_type": "code",
      "source": [
        "fishes_df.head()"
      ],
      "metadata": {
        "colab": {
          "base_uri": "https://localhost:8080/",
          "height": 206
        },
        "id": "eRjywSJMt4vm",
        "outputId": "29329f0c-cd69-4851-a8f3-cae3da24021a"
      },
      "execution_count": null,
      "outputs": [
        {
          "output_type": "execute_result",
          "data": {
            "text/plain": [
              "   Species  Weight  Length1  Length2  Length3  Height%  Width%  Sex\n",
              "1        1   242.0     23.2     25.4     30.0     38.4    13.4  NaN\n",
              "2        1   290.0     24.0     26.3     31.2     40.0    13.8  NaN\n",
              "3        1   340.0     23.9     26.5     31.1     39.8    15.1  NaN\n",
              "4        1   363.0     26.3     29.0     33.5     38.0    13.3  NaN\n",
              "5        1   430.0     26.5     29.0     34.0     36.6    15.1  NaN"
            ],
            "text/html": [
              "\n",
              "  <div id=\"df-ab393c30-8484-4ff4-94c1-c3cfd72ce44a\">\n",
              "    <div class=\"colab-df-container\">\n",
              "      <div>\n",
              "<style scoped>\n",
              "    .dataframe tbody tr th:only-of-type {\n",
              "        vertical-align: middle;\n",
              "    }\n",
              "\n",
              "    .dataframe tbody tr th {\n",
              "        vertical-align: top;\n",
              "    }\n",
              "\n",
              "    .dataframe thead th {\n",
              "        text-align: right;\n",
              "    }\n",
              "</style>\n",
              "<table border=\"1\" class=\"dataframe\">\n",
              "  <thead>\n",
              "    <tr style=\"text-align: right;\">\n",
              "      <th></th>\n",
              "      <th>Species</th>\n",
              "      <th>Weight</th>\n",
              "      <th>Length1</th>\n",
              "      <th>Length2</th>\n",
              "      <th>Length3</th>\n",
              "      <th>Height%</th>\n",
              "      <th>Width%</th>\n",
              "      <th>Sex</th>\n",
              "    </tr>\n",
              "  </thead>\n",
              "  <tbody>\n",
              "    <tr>\n",
              "      <th>1</th>\n",
              "      <td>1</td>\n",
              "      <td>242.0</td>\n",
              "      <td>23.2</td>\n",
              "      <td>25.4</td>\n",
              "      <td>30.0</td>\n",
              "      <td>38.4</td>\n",
              "      <td>13.4</td>\n",
              "      <td>NaN</td>\n",
              "    </tr>\n",
              "    <tr>\n",
              "      <th>2</th>\n",
              "      <td>1</td>\n",
              "      <td>290.0</td>\n",
              "      <td>24.0</td>\n",
              "      <td>26.3</td>\n",
              "      <td>31.2</td>\n",
              "      <td>40.0</td>\n",
              "      <td>13.8</td>\n",
              "      <td>NaN</td>\n",
              "    </tr>\n",
              "    <tr>\n",
              "      <th>3</th>\n",
              "      <td>1</td>\n",
              "      <td>340.0</td>\n",
              "      <td>23.9</td>\n",
              "      <td>26.5</td>\n",
              "      <td>31.1</td>\n",
              "      <td>39.8</td>\n",
              "      <td>15.1</td>\n",
              "      <td>NaN</td>\n",
              "    </tr>\n",
              "    <tr>\n",
              "      <th>4</th>\n",
              "      <td>1</td>\n",
              "      <td>363.0</td>\n",
              "      <td>26.3</td>\n",
              "      <td>29.0</td>\n",
              "      <td>33.5</td>\n",
              "      <td>38.0</td>\n",
              "      <td>13.3</td>\n",
              "      <td>NaN</td>\n",
              "    </tr>\n",
              "    <tr>\n",
              "      <th>5</th>\n",
              "      <td>1</td>\n",
              "      <td>430.0</td>\n",
              "      <td>26.5</td>\n",
              "      <td>29.0</td>\n",
              "      <td>34.0</td>\n",
              "      <td>36.6</td>\n",
              "      <td>15.1</td>\n",
              "      <td>NaN</td>\n",
              "    </tr>\n",
              "  </tbody>\n",
              "</table>\n",
              "</div>\n",
              "      <button class=\"colab-df-convert\" onclick=\"convertToInteractive('df-ab393c30-8484-4ff4-94c1-c3cfd72ce44a')\"\n",
              "              title=\"Convert this dataframe to an interactive table.\"\n",
              "              style=\"display:none;\">\n",
              "        \n",
              "  <svg xmlns=\"http://www.w3.org/2000/svg\" height=\"24px\"viewBox=\"0 0 24 24\"\n",
              "       width=\"24px\">\n",
              "    <path d=\"M0 0h24v24H0V0z\" fill=\"none\"/>\n",
              "    <path d=\"M18.56 5.44l.94 2.06.94-2.06 2.06-.94-2.06-.94-.94-2.06-.94 2.06-2.06.94zm-11 1L8.5 8.5l.94-2.06 2.06-.94-2.06-.94L8.5 2.5l-.94 2.06-2.06.94zm10 10l.94 2.06.94-2.06 2.06-.94-2.06-.94-.94-2.06-.94 2.06-2.06.94z\"/><path d=\"M17.41 7.96l-1.37-1.37c-.4-.4-.92-.59-1.43-.59-.52 0-1.04.2-1.43.59L10.3 9.45l-7.72 7.72c-.78.78-.78 2.05 0 2.83L4 21.41c.39.39.9.59 1.41.59.51 0 1.02-.2 1.41-.59l7.78-7.78 2.81-2.81c.8-.78.8-2.07 0-2.86zM5.41 20L4 18.59l7.72-7.72 1.47 1.35L5.41 20z\"/>\n",
              "  </svg>\n",
              "      </button>\n",
              "      \n",
              "  <style>\n",
              "    .colab-df-container {\n",
              "      display:flex;\n",
              "      flex-wrap:wrap;\n",
              "      gap: 12px;\n",
              "    }\n",
              "\n",
              "    .colab-df-convert {\n",
              "      background-color: #E8F0FE;\n",
              "      border: none;\n",
              "      border-radius: 50%;\n",
              "      cursor: pointer;\n",
              "      display: none;\n",
              "      fill: #1967D2;\n",
              "      height: 32px;\n",
              "      padding: 0 0 0 0;\n",
              "      width: 32px;\n",
              "    }\n",
              "\n",
              "    .colab-df-convert:hover {\n",
              "      background-color: #E2EBFA;\n",
              "      box-shadow: 0px 1px 2px rgba(60, 64, 67, 0.3), 0px 1px 3px 1px rgba(60, 64, 67, 0.15);\n",
              "      fill: #174EA6;\n",
              "    }\n",
              "\n",
              "    [theme=dark] .colab-df-convert {\n",
              "      background-color: #3B4455;\n",
              "      fill: #D2E3FC;\n",
              "    }\n",
              "\n",
              "    [theme=dark] .colab-df-convert:hover {\n",
              "      background-color: #434B5C;\n",
              "      box-shadow: 0px 1px 3px 1px rgba(0, 0, 0, 0.15);\n",
              "      filter: drop-shadow(0px 1px 2px rgba(0, 0, 0, 0.3));\n",
              "      fill: #FFFFFF;\n",
              "    }\n",
              "  </style>\n",
              "\n",
              "      <script>\n",
              "        const buttonEl =\n",
              "          document.querySelector('#df-ab393c30-8484-4ff4-94c1-c3cfd72ce44a button.colab-df-convert');\n",
              "        buttonEl.style.display =\n",
              "          google.colab.kernel.accessAllowed ? 'block' : 'none';\n",
              "\n",
              "        async function convertToInteractive(key) {\n",
              "          const element = document.querySelector('#df-ab393c30-8484-4ff4-94c1-c3cfd72ce44a');\n",
              "          const dataTable =\n",
              "            await google.colab.kernel.invokeFunction('convertToInteractive',\n",
              "                                                     [key], {});\n",
              "          if (!dataTable) return;\n",
              "\n",
              "          const docLinkHtml = 'Like what you see? Visit the ' +\n",
              "            '<a target=\"_blank\" href=https://colab.research.google.com/notebooks/data_table.ipynb>data table notebook</a>'\n",
              "            + ' to learn more about interactive tables.';\n",
              "          element.innerHTML = '';\n",
              "          dataTable['output_type'] = 'display_data';\n",
              "          await google.colab.output.renderOutput(dataTable, element);\n",
              "          const docLink = document.createElement('div');\n",
              "          docLink.innerHTML = docLinkHtml;\n",
              "          element.appendChild(docLink);\n",
              "        }\n",
              "      </script>\n",
              "    </div>\n",
              "  </div>\n",
              "  "
            ]
          },
          "metadata": {},
          "execution_count": 112
        }
      ]
    },
    {
      "cell_type": "code",
      "source": [
        "fishes_df.info()"
      ],
      "metadata": {
        "colab": {
          "base_uri": "https://localhost:8080/"
        },
        "id": "navI9JD3vlAt",
        "outputId": "2cc69070-33b0-4c3e-d870-cf2e53b6b948"
      },
      "execution_count": null,
      "outputs": [
        {
          "output_type": "stream",
          "name": "stdout",
          "text": [
            "<class 'pandas.core.frame.DataFrame'>\n",
            "Int64Index: 159 entries, 1 to 159\n",
            "Data columns (total 8 columns):\n",
            " #   Column   Non-Null Count  Dtype  \n",
            "---  ------   --------------  -----  \n",
            " 0   Species  159 non-null    int64  \n",
            " 1   Weight   158 non-null    float64\n",
            " 2   Length1  159 non-null    float64\n",
            " 3   Length2  159 non-null    float64\n",
            " 4   Length3  159 non-null    float64\n",
            " 5   Height%  159 non-null    float64\n",
            " 6   Width%   159 non-null    float64\n",
            " 7   Sex      72 non-null     float64\n",
            "dtypes: float64(7), int64(1)\n",
            "memory usage: 11.2 KB\n"
          ]
        }
      ]
    },
    {
      "cell_type": "code",
      "source": [
        "# Suppression des colonnes 'Species' et 'Sex'\n",
        "fishes_df.drop(columns=[\"Species\", \"Sex\"], inplace=True)"
      ],
      "metadata": {
        "id": "3YgCdqn3vp38"
      },
      "execution_count": null,
      "outputs": []
    },
    {
      "cell_type": "code",
      "source": [
        "# Remplacement (imputatation) de la valeur manquante au niveau de la variable 'Weight' \n",
        "fishes_df[\"Weight\"] = fishes_df[\"Weight\"].fillna(fishes_df[\"Weight\"].mean(axis=0))\n",
        "\n",
        "# Vérifions qu'il n'y a plus de données manquantes\n",
        "fishes_df.isna().sum()"
      ],
      "metadata": {
        "colab": {
          "base_uri": "https://localhost:8080/"
        },
        "id": "7aDhGXKswJym",
        "outputId": "51c504f0-a225-4dde-9e7f-bc97491c0a1e"
      },
      "execution_count": null,
      "outputs": [
        {
          "output_type": "execute_result",
          "data": {
            "text/plain": [
              "Weight     0\n",
              "Length1    0\n",
              "Length2    0\n",
              "Length3    0\n",
              "Height%    0\n",
              "Width%     0\n",
              "dtype: int64"
            ]
          },
          "metadata": {},
          "execution_count": 116
        }
      ]
    },
    {
      "cell_type": "markdown",
      "source": [
        "L'ensemble des données ci-dessus est de 6 dimensions (6 variables). A l'aide de la technique de l'ACP Réduisez la dimension de cet ensemble afin de trouver sa dimension intrinsèque."
      ],
      "metadata": {
        "id": "hiUIMtWVxL4T"
      }
    },
    {
      "cell_type": "code",
      "source": [
        "# Création d'un tableauy numoys 2D à npartur de la daframe fishes\n",
        "fishes_array = fishes.values\n",
        "\n",
        "# Création d'un objet Pipeline qui va regrouper les étapes de standardisation et d'ACP\n",
        "  ## C'est l'avantage d'un pipeline, ça regroupe les étaples\n",
        "pipe = Pipeline([('scaler', StandardScaler()),\n",
        "                 ('pca', PCA())])\n",
        "\n",
        "# Application de l'objet de l'objet pipe aux données \n",
        "pipe.fit(fishes_array)\n",
        "\n",
        "# Visualisation du pourcentage de variance expliquée par chaque composante \n",
        "plt.bar(range(pipe[1].n_components_), pipe[1].explained_variance_ratio_)\n",
        "plt.xlabel(\"Composantes principales\")\n",
        "plt.ylabel(\"Pourcentage de variance expliquées\")\n",
        "plt.xticks(range(pipe[1].n_components_)). # graduation de 0 jusqu'au nbre total de composantes"
      ],
      "metadata": {
        "colab": {
          "base_uri": "https://localhost:8080/",
          "height": 133
        },
        "id": "SfHPOxUexHyd",
        "outputId": "1251e569-64aa-4f73-b06d-08c8f0ffb452"
      },
      "execution_count": null,
      "outputs": [
        {
          "output_type": "error",
          "ename": "SyntaxError",
          "evalue": "ignored",
          "traceback": [
            "\u001b[0;36m  File \u001b[0;32m\"<ipython-input-121-1c5aadb7b647>\"\u001b[0;36m, line \u001b[0;32m16\u001b[0m\n\u001b[0;31m    plt.xticks(range(pipe[1].n_components_)). # graduation de 0 jusqu'au nbre total de composantes\u001b[0m\n\u001b[0m                                              ^\u001b[0m\n\u001b[0;31mSyntaxError\u001b[0m\u001b[0;31m:\u001b[0m invalid syntax\n"
          ]
        }
      ]
    },
    {
      "cell_type": "code",
      "source": [],
      "metadata": {
        "id": "OVVljvCEzeVm"
      },
      "execution_count": null,
      "outputs": []
    }
  ]
}